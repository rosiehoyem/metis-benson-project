{
 "cells": [
  {
   "cell_type": "code",
   "execution_count": 37,
   "metadata": {
    "collapsed": false
   },
   "outputs": [],
   "source": [
    "def guess(num):\n",
    "    import random\n",
    "    try:\n",
    "        num in range(1,101)\n",
    "    except:\n",
    "         \"enter a number between 1-100\"\n",
    "        \n",
    "    guess = random.randrange(1,101)\n",
    "    count = 1\n",
    "    low = 1\n",
    "    high = 101\n",
    "    while num != guess:\n",
    "        if num < guess:\n",
    "            high = guess\n",
    "            guess = random.randrange(low,high)\n",
    "        else:\n",
    "            low = guess\n",
    "            guess = random.randrange(low+1,high)\n",
    "        count = count+1\n",
    "    print \"I got it right in \" + str(count) + \" tries\""
   ]
  },
  {
   "cell_type": "code",
   "execution_count": 42,
   "metadata": {
    "collapsed": false
   },
   "outputs": [
    {
     "name": "stdout",
     "output_type": "stream",
     "text": [
      "I got it right in 4 tries\n"
     ]
    }
   ],
   "source": [
    "guess(75)"
   ]
  },
  {
   "cell_type": "code",
   "execution_count": 40,
   "metadata": {
    "collapsed": false
   },
   "outputs": [
    {
     "name": "stdout",
     "output_type": "stream",
     "text": [
      "<function guess at 0x1045b5c08>\n"
     ]
    }
   ],
   "source": [
    "print guess"
   ]
  },
  {
   "cell_type": "code",
   "execution_count": null,
   "metadata": {
    "collapsed": true
   },
   "outputs": [],
   "source": []
  }
 ],
 "metadata": {
  "anaconda-cloud": {},
  "kernelspec": {
   "display_name": "Python [conda root]",
   "language": "python",
   "name": "conda-root-py"
  },
  "language_info": {
   "codemirror_mode": {
    "name": "ipython",
    "version": 2
   },
   "file_extension": ".py",
   "mimetype": "text/x-python",
   "name": "python",
   "nbconvert_exporter": "python",
   "pygments_lexer": "ipython2",
   "version": "2.7.12"
  }
 },
 "nbformat": 4,
 "nbformat_minor": 1
}
